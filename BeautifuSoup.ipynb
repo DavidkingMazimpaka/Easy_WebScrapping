{
  "nbformat": 4,
  "nbformat_minor": 0,
  "metadata": {
    "colab": {
      "provenance": [],
      "authorship_tag": "ABX9TyMiGMGLwAY92m74uOZobR9K",
      "include_colab_link": true
    },
    "kernelspec": {
      "name": "python3",
      "display_name": "Python 3"
    },
    "language_info": {
      "name": "python"
    }
  },
  "cells": [
    {
      "cell_type": "markdown",
      "metadata": {
        "id": "view-in-github",
        "colab_type": "text"
      },
      "source": [
        "<a href=\"https://colab.research.google.com/github/DavidkingMazimpaka/Easy_WebScrapping/blob/main/BeautifuSoup.ipynb\" target=\"_parent\"><img src=\"https://colab.research.google.com/assets/colab-badge.svg\" alt=\"Open In Colab\"/></a>"
      ]
    },
    {
      "cell_type": "markdown",
      "source": [
        "# Web Scrapping with BeautifulSoup"
      ],
      "metadata": {
        "id": "NXnAl10sihxl"
      }
    },
    {
      "cell_type": "code",
      "execution_count": 2,
      "metadata": {
        "colab": {
          "base_uri": "https://localhost:8080/"
        },
        "id": "5htEmfjIiVb2",
        "outputId": "80797b97-2acc-4d8d-cde1-86eb4ff95908"
      },
      "outputs": [
        {
          "output_type": "stream",
          "name": "stdout",
          "text": [
            "Requirement already satisfied: requests in /usr/local/lib/python3.10/dist-packages (2.31.0)\n",
            "Requirement already satisfied: charset-normalizer<4,>=2 in /usr/local/lib/python3.10/dist-packages (from requests) (3.3.2)\n",
            "Requirement already satisfied: idna<4,>=2.5 in /usr/local/lib/python3.10/dist-packages (from requests) (3.7)\n",
            "Requirement already satisfied: urllib3<3,>=1.21.1 in /usr/local/lib/python3.10/dist-packages (from requests) (2.0.7)\n",
            "Requirement already satisfied: certifi>=2017.4.17 in /usr/local/lib/python3.10/dist-packages (from requests) (2024.6.2)\n"
          ]
        }
      ],
      "source": [
        "!pip install requests"
      ]
    },
    {
      "cell_type": "code",
      "source": [
        "import requests\n",
        "from bs4 import BeautifulSoup\n",
        "import pandas as pd\n",
        "url = \"https://www.worldometers.info/world-population/population-by-country/\"\n",
        "response = requests.get(url)\n",
        "soup = BeautifulSoup(response.content, 'html.parser')"
      ],
      "metadata": {
        "id": "LlU8WEi7s9O1"
      },
      "execution_count": 9,
      "outputs": []
    },
    {
      "cell_type": "markdown",
      "source": [],
      "metadata": {
        "id": "I2OSUPYXxI4G"
      }
    },
    {
      "cell_type": "code",
      "source": [
        "# Find the table\n",
        "table = soup.find('table', id='example2')\n",
        "\n",
        "if table:\n",
        "    # Extract the header\n",
        "    headers = [th.text.strip() for th in table.find_all('th')]\n",
        "\n",
        "    # Extract the data\n",
        "    data = []\n",
        "    for row in table.find_all('tr')[1:]:  # Skip the header row\n",
        "        row_data = [td.text.strip() for td in row.find_all('td')]\n",
        "        if row_data:\n",
        "            data.append(row_data)\n",
        "\n",
        "    # Create DataFrame\n",
        "    df = pd.DataFrame(data, columns=headers)\n",
        "\n",
        "    # Display the DataFrame\n",
        "    print(df)\n",
        "else:\n",
        "    print(\"Table not found\")"
      ],
      "metadata": {
        "colab": {
          "base_uri": "https://localhost:8080/"
        },
        "id": "Moha5awSwVmN",
        "outputId": "e26f8098-ec7b-4f57-9f8d-9db24c0781b1"
      },
      "execution_count": 11,
      "outputs": [
        {
          "output_type": "stream",
          "name": "stdout",
          "text": [
            "       # Country (or dependency) Population (2023) Yearly Change  Net Change  \\\n",
            "0      1                   India     1,428,627,663        0.81 %  11,454,490   \n",
            "1      2                   China     1,425,671,352       -0.02 %    -215,985   \n",
            "2      3           United States       339,996,563        0.50 %   1,706,706   \n",
            "3      4               Indonesia       277,534,122        0.74 %   2,032,783   \n",
            "4      5                Pakistan       240,485,658        1.98 %   4,660,796   \n",
            "..   ...                     ...               ...           ...         ...   \n",
            "229  230              Montserrat             4,386       -0.09 %          -4   \n",
            "230  231        Falkland Islands             3,791        0.29 %          11   \n",
            "231  232                    Niue             1,935        0.05 %           1   \n",
            "232  233                 Tokelau             1,893        1.18 %          22   \n",
            "233  234                Holy See               518        1.57 %           8   \n",
            "\n",
            "    Density (P/Km²) Land Area (Km²) Migrants (net) Fert. Rate Med. Age  \\\n",
            "0               481       2,973,190       -486,136        2.0       28   \n",
            "1               152       9,388,211       -310,220        1.2       39   \n",
            "2                37       9,147,420        999,700        1.7       38   \n",
            "3               153       1,811,570        -49,997        2.1       30   \n",
            "4               312         770,880       -165,988        3.3       21   \n",
            "..              ...             ...            ...        ...      ...   \n",
            "229              44             100              0        1.6       44   \n",
            "230               0          12,170              0        1.6       40   \n",
            "231               7             260              0        2.4       36   \n",
            "232             189              10              0        2.6       27   \n",
            "233           1,295               0              0                       \n",
            "\n",
            "    Urban Pop % World Share  \n",
            "0          36 %     17.76 %  \n",
            "1          65 %     17.72 %  \n",
            "2          83 %      4.23 %  \n",
            "3          59 %      3.45 %  \n",
            "4          35 %      2.99 %  \n",
            "..          ...         ...  \n",
            "229        11 %      0.00 %  \n",
            "230        62 %      0.00 %  \n",
            "231        41 %      0.00 %  \n",
            "232         0 %      0.00 %  \n",
            "233        N.A.      0.00 %  \n",
            "\n",
            "[234 rows x 12 columns]\n"
          ]
        }
      ]
    }
  ]
}